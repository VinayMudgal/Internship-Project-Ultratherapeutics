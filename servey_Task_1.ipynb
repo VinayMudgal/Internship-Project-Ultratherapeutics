{
 "cells": [
  {
   "cell_type": "markdown",
   "metadata": {},
   "source": [
    "----\n",
    "# Ultra Therapeutics Project\n",
    "----"
   ]
  },
  {
   "cell_type": "markdown",
   "metadata": {},
   "source": [
    "## Task 1 : Data Exploration and Preprocessing"
   ]
  },
  {
   "cell_type": "markdown",
   "metadata": {},
   "source": [
    "### Import packages"
   ]
  },
  {
   "cell_type": "code",
   "execution_count": 2,
   "metadata": {},
   "outputs": [],
   "source": [
    "import pandas as pd\n",
    "import numpy as np \n",
    "import  matplotlib.pyplot as plt\n",
    "import seaborn as sns\n",
    "\n",
    "import warnings\n",
    "warnings.filterwarnings('ignore')"
   ]
  },
  {
   "cell_type": "markdown",
   "metadata": {},
   "source": [
    "#### Loading data with Pandas"
   ]
  },
  {
   "cell_type": "code",
   "execution_count": 3,
   "metadata": {},
   "outputs": [
    {
     "data": {
      "text/html": [
       "<div>\n",
       "<style scoped>\n",
       "    .dataframe tbody tr th:only-of-type {\n",
       "        vertical-align: middle;\n",
       "    }\n",
       "\n",
       "    .dataframe tbody tr th {\n",
       "        vertical-align: top;\n",
       "    }\n",
       "\n",
       "    .dataframe thead th {\n",
       "        text-align: right;\n",
       "    }\n",
       "</style>\n",
       "<table border=\"1\" class=\"dataframe\">\n",
       "  <thead>\n",
       "    <tr style=\"text-align: right;\">\n",
       "      <th></th>\n",
       "      <th>Age</th>\n",
       "      <th>Gender</th>\n",
       "      <th>Treatment Type</th>\n",
       "      <th>Treatment Duration (weeks)</th>\n",
       "      <th>Wait Time (minutes)</th>\n",
       "      <th>Staff Friendliness Rating</th>\n",
       "      <th>Hospital Cleanliness Rating</th>\n",
       "      <th>Perceived Effectiveness Rating</th>\n",
       "      <th>Side Effects Rating</th>\n",
       "      <th>Overall Health Improvement Rating</th>\n",
       "      <th>Overall Satisfaction Rating</th>\n",
       "    </tr>\n",
       "  </thead>\n",
       "  <tbody>\n",
       "    <tr>\n",
       "      <th>0</th>\n",
       "      <td>56</td>\n",
       "      <td>Female</td>\n",
       "      <td>Type C</td>\n",
       "      <td>12</td>\n",
       "      <td>99</td>\n",
       "      <td>4</td>\n",
       "      <td>4</td>\n",
       "      <td>5</td>\n",
       "      <td>2</td>\n",
       "      <td>5</td>\n",
       "      <td>5</td>\n",
       "    </tr>\n",
       "    <tr>\n",
       "      <th>1</th>\n",
       "      <td>69</td>\n",
       "      <td>Female</td>\n",
       "      <td>Type A</td>\n",
       "      <td>5</td>\n",
       "      <td>58</td>\n",
       "      <td>5</td>\n",
       "      <td>4</td>\n",
       "      <td>1</td>\n",
       "      <td>1</td>\n",
       "      <td>2</td>\n",
       "      <td>5</td>\n",
       "    </tr>\n",
       "    <tr>\n",
       "      <th>2</th>\n",
       "      <td>46</td>\n",
       "      <td>Female</td>\n",
       "      <td>Type C</td>\n",
       "      <td>37</td>\n",
       "      <td>62</td>\n",
       "      <td>4</td>\n",
       "      <td>5</td>\n",
       "      <td>4</td>\n",
       "      <td>3</td>\n",
       "      <td>4</td>\n",
       "      <td>5</td>\n",
       "    </tr>\n",
       "    <tr>\n",
       "      <th>3</th>\n",
       "      <td>32</td>\n",
       "      <td>Other</td>\n",
       "      <td>Type B</td>\n",
       "      <td>32</td>\n",
       "      <td>71</td>\n",
       "      <td>3</td>\n",
       "      <td>3</td>\n",
       "      <td>1</td>\n",
       "      <td>5</td>\n",
       "      <td>2</td>\n",
       "      <td>5</td>\n",
       "    </tr>\n",
       "    <tr>\n",
       "      <th>4</th>\n",
       "      <td>60</td>\n",
       "      <td>Other</td>\n",
       "      <td>Type A</td>\n",
       "      <td>9</td>\n",
       "      <td>108</td>\n",
       "      <td>4</td>\n",
       "      <td>5</td>\n",
       "      <td>1</td>\n",
       "      <td>2</td>\n",
       "      <td>1</td>\n",
       "      <td>5</td>\n",
       "    </tr>\n",
       "    <tr>\n",
       "      <th>...</th>\n",
       "      <td>...</td>\n",
       "      <td>...</td>\n",
       "      <td>...</td>\n",
       "      <td>...</td>\n",
       "      <td>...</td>\n",
       "      <td>...</td>\n",
       "      <td>...</td>\n",
       "      <td>...</td>\n",
       "      <td>...</td>\n",
       "      <td>...</td>\n",
       "      <td>...</td>\n",
       "    </tr>\n",
       "    <tr>\n",
       "      <th>95</th>\n",
       "      <td>46</td>\n",
       "      <td>Female</td>\n",
       "      <td>Type A</td>\n",
       "      <td>33</td>\n",
       "      <td>23</td>\n",
       "      <td>4</td>\n",
       "      <td>3</td>\n",
       "      <td>3</td>\n",
       "      <td>1</td>\n",
       "      <td>4</td>\n",
       "      <td>5</td>\n",
       "    </tr>\n",
       "    <tr>\n",
       "      <th>96</th>\n",
       "      <td>35</td>\n",
       "      <td>Female</td>\n",
       "      <td>Type A</td>\n",
       "      <td>3</td>\n",
       "      <td>21</td>\n",
       "      <td>3</td>\n",
       "      <td>3</td>\n",
       "      <td>5</td>\n",
       "      <td>3</td>\n",
       "      <td>5</td>\n",
       "      <td>5</td>\n",
       "    </tr>\n",
       "    <tr>\n",
       "      <th>97</th>\n",
       "      <td>43</td>\n",
       "      <td>Female</td>\n",
       "      <td>Type B</td>\n",
       "      <td>18</td>\n",
       "      <td>67</td>\n",
       "      <td>4</td>\n",
       "      <td>3</td>\n",
       "      <td>5</td>\n",
       "      <td>3</td>\n",
       "      <td>5</td>\n",
       "      <td>5</td>\n",
       "    </tr>\n",
       "    <tr>\n",
       "      <th>98</th>\n",
       "      <td>61</td>\n",
       "      <td>Other</td>\n",
       "      <td>Type A</td>\n",
       "      <td>25</td>\n",
       "      <td>23</td>\n",
       "      <td>4</td>\n",
       "      <td>4</td>\n",
       "      <td>1</td>\n",
       "      <td>3</td>\n",
       "      <td>1</td>\n",
       "      <td>5</td>\n",
       "    </tr>\n",
       "    <tr>\n",
       "      <th>99</th>\n",
       "      <td>51</td>\n",
       "      <td>Female</td>\n",
       "      <td>Type B</td>\n",
       "      <td>42</td>\n",
       "      <td>96</td>\n",
       "      <td>4</td>\n",
       "      <td>5</td>\n",
       "      <td>1</td>\n",
       "      <td>5</td>\n",
       "      <td>2</td>\n",
       "      <td>5</td>\n",
       "    </tr>\n",
       "  </tbody>\n",
       "</table>\n",
       "<p>100 rows × 11 columns</p>\n",
       "</div>"
      ],
      "text/plain": [
       "    Age  Gender Treatment Type  Treatment Duration (weeks)  \\\n",
       "0    56  Female         Type C                          12   \n",
       "1    69  Female         Type A                           5   \n",
       "2    46  Female         Type C                          37   \n",
       "3    32   Other         Type B                          32   \n",
       "4    60   Other         Type A                           9   \n",
       "..  ...     ...            ...                         ...   \n",
       "95   46  Female         Type A                          33   \n",
       "96   35  Female         Type A                           3   \n",
       "97   43  Female         Type B                          18   \n",
       "98   61   Other         Type A                          25   \n",
       "99   51  Female         Type B                          42   \n",
       "\n",
       "    Wait Time (minutes)  Staff Friendliness Rating  \\\n",
       "0                    99                          4   \n",
       "1                    58                          5   \n",
       "2                    62                          4   \n",
       "3                    71                          3   \n",
       "4                   108                          4   \n",
       "..                  ...                        ...   \n",
       "95                   23                          4   \n",
       "96                   21                          3   \n",
       "97                   67                          4   \n",
       "98                   23                          4   \n",
       "99                   96                          4   \n",
       "\n",
       "    Hospital Cleanliness Rating  Perceived Effectiveness Rating  \\\n",
       "0                             4                               5   \n",
       "1                             4                               1   \n",
       "2                             5                               4   \n",
       "3                             3                               1   \n",
       "4                             5                               1   \n",
       "..                          ...                             ...   \n",
       "95                            3                               3   \n",
       "96                            3                               5   \n",
       "97                            3                               5   \n",
       "98                            4                               1   \n",
       "99                            5                               1   \n",
       "\n",
       "    Side Effects Rating  Overall Health Improvement Rating  \\\n",
       "0                     2                                  5   \n",
       "1                     1                                  2   \n",
       "2                     3                                  4   \n",
       "3                     5                                  2   \n",
       "4                     2                                  1   \n",
       "..                  ...                                ...   \n",
       "95                    1                                  4   \n",
       "96                    3                                  5   \n",
       "97                    3                                  5   \n",
       "98                    3                                  1   \n",
       "99                    5                                  2   \n",
       "\n",
       "    Overall Satisfaction Rating  \n",
       "0                             5  \n",
       "1                             5  \n",
       "2                             5  \n",
       "3                             5  \n",
       "4                             5  \n",
       "..                          ...  \n",
       "95                            5  \n",
       "96                            5  \n",
       "97                            5  \n",
       "98                            5  \n",
       "99                            5  \n",
       "\n",
       "[100 rows x 11 columns]"
      ]
     },
     "execution_count": 3,
     "metadata": {},
     "output_type": "execute_result"
    }
   ],
   "source": [
    "df = pd.read_csv('patient_satisfaction_ultratherapeutics.csv')\n",
    "df"
   ]
  },
  {
   "cell_type": "markdown",
   "metadata": {},
   "source": [
    "#### Descriptive statistics of data"
   ]
  },
  {
   "cell_type": "code",
   "execution_count": 4,
   "metadata": {},
   "outputs": [
    {
     "data": {
      "text/html": [
       "<div>\n",
       "<style scoped>\n",
       "    .dataframe tbody tr th:only-of-type {\n",
       "        vertical-align: middle;\n",
       "    }\n",
       "\n",
       "    .dataframe tbody tr th {\n",
       "        vertical-align: top;\n",
       "    }\n",
       "\n",
       "    .dataframe thead th {\n",
       "        text-align: right;\n",
       "    }\n",
       "</style>\n",
       "<table border=\"1\" class=\"dataframe\">\n",
       "  <thead>\n",
       "    <tr style=\"text-align: right;\">\n",
       "      <th></th>\n",
       "      <th>Age</th>\n",
       "      <th>Treatment Duration (weeks)</th>\n",
       "      <th>Wait Time (minutes)</th>\n",
       "      <th>Staff Friendliness Rating</th>\n",
       "      <th>Hospital Cleanliness Rating</th>\n",
       "      <th>Perceived Effectiveness Rating</th>\n",
       "      <th>Side Effects Rating</th>\n",
       "      <th>Overall Health Improvement Rating</th>\n",
       "      <th>Overall Satisfaction Rating</th>\n",
       "    </tr>\n",
       "  </thead>\n",
       "  <tbody>\n",
       "    <tr>\n",
       "      <th>count</th>\n",
       "      <td>100.000000</td>\n",
       "      <td>100.000000</td>\n",
       "      <td>100.000000</td>\n",
       "      <td>100.000000</td>\n",
       "      <td>100.000000</td>\n",
       "      <td>100.000000</td>\n",
       "      <td>100.000000</td>\n",
       "      <td>100.000000</td>\n",
       "      <td>100.0</td>\n",
       "    </tr>\n",
       "    <tr>\n",
       "      <th>mean</th>\n",
       "      <td>50.270000</td>\n",
       "      <td>28.180000</td>\n",
       "      <td>60.910000</td>\n",
       "      <td>3.870000</td>\n",
       "      <td>3.880000</td>\n",
       "      <td>3.180000</td>\n",
       "      <td>2.900000</td>\n",
       "      <td>3.520000</td>\n",
       "      <td>5.0</td>\n",
       "    </tr>\n",
       "    <tr>\n",
       "      <th>std</th>\n",
       "      <td>19.176403</td>\n",
       "      <td>13.633278</td>\n",
       "      <td>33.227132</td>\n",
       "      <td>0.786952</td>\n",
       "      <td>0.856113</td>\n",
       "      <td>1.493285</td>\n",
       "      <td>1.438995</td>\n",
       "      <td>1.381552</td>\n",
       "      <td>0.0</td>\n",
       "    </tr>\n",
       "    <tr>\n",
       "      <th>min</th>\n",
       "      <td>19.000000</td>\n",
       "      <td>2.000000</td>\n",
       "      <td>6.000000</td>\n",
       "      <td>3.000000</td>\n",
       "      <td>3.000000</td>\n",
       "      <td>1.000000</td>\n",
       "      <td>1.000000</td>\n",
       "      <td>1.000000</td>\n",
       "      <td>5.0</td>\n",
       "    </tr>\n",
       "    <tr>\n",
       "      <th>25%</th>\n",
       "      <td>34.750000</td>\n",
       "      <td>18.750000</td>\n",
       "      <td>29.750000</td>\n",
       "      <td>3.000000</td>\n",
       "      <td>3.000000</td>\n",
       "      <td>2.000000</td>\n",
       "      <td>2.000000</td>\n",
       "      <td>2.000000</td>\n",
       "      <td>5.0</td>\n",
       "    </tr>\n",
       "    <tr>\n",
       "      <th>50%</th>\n",
       "      <td>51.500000</td>\n",
       "      <td>30.000000</td>\n",
       "      <td>58.500000</td>\n",
       "      <td>4.000000</td>\n",
       "      <td>4.000000</td>\n",
       "      <td>3.500000</td>\n",
       "      <td>3.000000</td>\n",
       "      <td>4.000000</td>\n",
       "      <td>5.0</td>\n",
       "    </tr>\n",
       "    <tr>\n",
       "      <th>75%</th>\n",
       "      <td>68.000000</td>\n",
       "      <td>37.250000</td>\n",
       "      <td>91.750000</td>\n",
       "      <td>4.250000</td>\n",
       "      <td>5.000000</td>\n",
       "      <td>4.250000</td>\n",
       "      <td>4.000000</td>\n",
       "      <td>5.000000</td>\n",
       "      <td>5.0</td>\n",
       "    </tr>\n",
       "    <tr>\n",
       "      <th>max</th>\n",
       "      <td>79.000000</td>\n",
       "      <td>51.000000</td>\n",
       "      <td>119.000000</td>\n",
       "      <td>5.000000</td>\n",
       "      <td>5.000000</td>\n",
       "      <td>5.000000</td>\n",
       "      <td>5.000000</td>\n",
       "      <td>5.000000</td>\n",
       "      <td>5.0</td>\n",
       "    </tr>\n",
       "  </tbody>\n",
       "</table>\n",
       "</div>"
      ],
      "text/plain": [
       "              Age  Treatment Duration (weeks)  Wait Time (minutes)  \\\n",
       "count  100.000000                  100.000000           100.000000   \n",
       "mean    50.270000                   28.180000            60.910000   \n",
       "std     19.176403                   13.633278            33.227132   \n",
       "min     19.000000                    2.000000             6.000000   \n",
       "25%     34.750000                   18.750000            29.750000   \n",
       "50%     51.500000                   30.000000            58.500000   \n",
       "75%     68.000000                   37.250000            91.750000   \n",
       "max     79.000000                   51.000000           119.000000   \n",
       "\n",
       "       Staff Friendliness Rating  Hospital Cleanliness Rating  \\\n",
       "count                 100.000000                   100.000000   \n",
       "mean                    3.870000                     3.880000   \n",
       "std                     0.786952                     0.856113   \n",
       "min                     3.000000                     3.000000   \n",
       "25%                     3.000000                     3.000000   \n",
       "50%                     4.000000                     4.000000   \n",
       "75%                     4.250000                     5.000000   \n",
       "max                     5.000000                     5.000000   \n",
       "\n",
       "       Perceived Effectiveness Rating  Side Effects Rating  \\\n",
       "count                      100.000000           100.000000   \n",
       "mean                         3.180000             2.900000   \n",
       "std                          1.493285             1.438995   \n",
       "min                          1.000000             1.000000   \n",
       "25%                          2.000000             2.000000   \n",
       "50%                          3.500000             3.000000   \n",
       "75%                          4.250000             4.000000   \n",
       "max                          5.000000             5.000000   \n",
       "\n",
       "       Overall Health Improvement Rating  Overall Satisfaction Rating  \n",
       "count                         100.000000                        100.0  \n",
       "mean                            3.520000                          5.0  \n",
       "std                             1.381552                          0.0  \n",
       "min                             1.000000                          5.0  \n",
       "25%                             2.000000                          5.0  \n",
       "50%                             4.000000                          5.0  \n",
       "75%                             5.000000                          5.0  \n",
       "max                             5.000000                          5.0  "
      ]
     },
     "execution_count": 4,
     "metadata": {},
     "output_type": "execute_result"
    }
   ],
   "source": [
    "df.describe()"
   ]
  },
  {
   "cell_type": "code",
   "execution_count": 5,
   "metadata": {},
   "outputs": [
    {
     "name": "stdout",
     "output_type": "stream",
     "text": [
      "<class 'pandas.core.frame.DataFrame'>\n",
      "RangeIndex: 100 entries, 0 to 99\n",
      "Data columns (total 11 columns):\n",
      " #   Column                             Non-Null Count  Dtype \n",
      "---  ------                             --------------  ----- \n",
      " 0   Age                                100 non-null    int64 \n",
      " 1   Gender                             100 non-null    object\n",
      " 2   Treatment Type                     100 non-null    object\n",
      " 3   Treatment Duration (weeks)         100 non-null    int64 \n",
      " 4   Wait Time (minutes)                100 non-null    int64 \n",
      " 5   Staff Friendliness Rating          100 non-null    int64 \n",
      " 6   Hospital Cleanliness Rating        100 non-null    int64 \n",
      " 7   Perceived Effectiveness Rating     100 non-null    int64 \n",
      " 8   Side Effects Rating                100 non-null    int64 \n",
      " 9   Overall Health Improvement Rating  100 non-null    int64 \n",
      " 10  Overall Satisfaction Rating        100 non-null    int64 \n",
      "dtypes: int64(9), object(2)\n",
      "memory usage: 8.7+ KB\n"
     ]
    }
   ],
   "source": [
    "df.info()"
   ]
  },
  {
   "cell_type": "markdown",
   "metadata": {},
   "source": [
    "##### Finding Missing Values "
   ]
  },
  {
   "cell_type": "code",
   "execution_count": 6,
   "metadata": {},
   "outputs": [
    {
     "data": {
      "text/html": [
       "<div>\n",
       "<style scoped>\n",
       "    .dataframe tbody tr th:only-of-type {\n",
       "        vertical-align: middle;\n",
       "    }\n",
       "\n",
       "    .dataframe tbody tr th {\n",
       "        vertical-align: top;\n",
       "    }\n",
       "\n",
       "    .dataframe thead th {\n",
       "        text-align: right;\n",
       "    }\n",
       "</style>\n",
       "<table border=\"1\" class=\"dataframe\">\n",
       "  <thead>\n",
       "    <tr style=\"text-align: right;\">\n",
       "      <th></th>\n",
       "      <th>Age</th>\n",
       "      <th>Gender</th>\n",
       "      <th>Treatment Type</th>\n",
       "      <th>Treatment Duration (weeks)</th>\n",
       "      <th>Wait Time (minutes)</th>\n",
       "      <th>Staff Friendliness Rating</th>\n",
       "      <th>Hospital Cleanliness Rating</th>\n",
       "      <th>Perceived Effectiveness Rating</th>\n",
       "      <th>Side Effects Rating</th>\n",
       "      <th>Overall Health Improvement Rating</th>\n",
       "      <th>Overall Satisfaction Rating</th>\n",
       "    </tr>\n",
       "  </thead>\n",
       "  <tbody>\n",
       "    <tr>\n",
       "      <th>0</th>\n",
       "      <td>56</td>\n",
       "      <td>Female</td>\n",
       "      <td>Type C</td>\n",
       "      <td>12</td>\n",
       "      <td>99</td>\n",
       "      <td>4</td>\n",
       "      <td>4</td>\n",
       "      <td>5</td>\n",
       "      <td>2</td>\n",
       "      <td>5</td>\n",
       "      <td>5</td>\n",
       "    </tr>\n",
       "    <tr>\n",
       "      <th>1</th>\n",
       "      <td>69</td>\n",
       "      <td>Female</td>\n",
       "      <td>Type A</td>\n",
       "      <td>5</td>\n",
       "      <td>58</td>\n",
       "      <td>5</td>\n",
       "      <td>4</td>\n",
       "      <td>1</td>\n",
       "      <td>1</td>\n",
       "      <td>2</td>\n",
       "      <td>5</td>\n",
       "    </tr>\n",
       "    <tr>\n",
       "      <th>2</th>\n",
       "      <td>46</td>\n",
       "      <td>Female</td>\n",
       "      <td>Type C</td>\n",
       "      <td>37</td>\n",
       "      <td>62</td>\n",
       "      <td>4</td>\n",
       "      <td>5</td>\n",
       "      <td>4</td>\n",
       "      <td>3</td>\n",
       "      <td>4</td>\n",
       "      <td>5</td>\n",
       "    </tr>\n",
       "    <tr>\n",
       "      <th>3</th>\n",
       "      <td>32</td>\n",
       "      <td>Other</td>\n",
       "      <td>Type B</td>\n",
       "      <td>32</td>\n",
       "      <td>71</td>\n",
       "      <td>3</td>\n",
       "      <td>3</td>\n",
       "      <td>1</td>\n",
       "      <td>5</td>\n",
       "      <td>2</td>\n",
       "      <td>5</td>\n",
       "    </tr>\n",
       "    <tr>\n",
       "      <th>4</th>\n",
       "      <td>60</td>\n",
       "      <td>Other</td>\n",
       "      <td>Type A</td>\n",
       "      <td>9</td>\n",
       "      <td>108</td>\n",
       "      <td>4</td>\n",
       "      <td>5</td>\n",
       "      <td>1</td>\n",
       "      <td>2</td>\n",
       "      <td>1</td>\n",
       "      <td>5</td>\n",
       "    </tr>\n",
       "    <tr>\n",
       "      <th>...</th>\n",
       "      <td>...</td>\n",
       "      <td>...</td>\n",
       "      <td>...</td>\n",
       "      <td>...</td>\n",
       "      <td>...</td>\n",
       "      <td>...</td>\n",
       "      <td>...</td>\n",
       "      <td>...</td>\n",
       "      <td>...</td>\n",
       "      <td>...</td>\n",
       "      <td>...</td>\n",
       "    </tr>\n",
       "    <tr>\n",
       "      <th>95</th>\n",
       "      <td>46</td>\n",
       "      <td>Female</td>\n",
       "      <td>Type A</td>\n",
       "      <td>33</td>\n",
       "      <td>23</td>\n",
       "      <td>4</td>\n",
       "      <td>3</td>\n",
       "      <td>3</td>\n",
       "      <td>1</td>\n",
       "      <td>4</td>\n",
       "      <td>5</td>\n",
       "    </tr>\n",
       "    <tr>\n",
       "      <th>96</th>\n",
       "      <td>35</td>\n",
       "      <td>Female</td>\n",
       "      <td>Type A</td>\n",
       "      <td>3</td>\n",
       "      <td>21</td>\n",
       "      <td>3</td>\n",
       "      <td>3</td>\n",
       "      <td>5</td>\n",
       "      <td>3</td>\n",
       "      <td>5</td>\n",
       "      <td>5</td>\n",
       "    </tr>\n",
       "    <tr>\n",
       "      <th>97</th>\n",
       "      <td>43</td>\n",
       "      <td>Female</td>\n",
       "      <td>Type B</td>\n",
       "      <td>18</td>\n",
       "      <td>67</td>\n",
       "      <td>4</td>\n",
       "      <td>3</td>\n",
       "      <td>5</td>\n",
       "      <td>3</td>\n",
       "      <td>5</td>\n",
       "      <td>5</td>\n",
       "    </tr>\n",
       "    <tr>\n",
       "      <th>98</th>\n",
       "      <td>61</td>\n",
       "      <td>Other</td>\n",
       "      <td>Type A</td>\n",
       "      <td>25</td>\n",
       "      <td>23</td>\n",
       "      <td>4</td>\n",
       "      <td>4</td>\n",
       "      <td>1</td>\n",
       "      <td>3</td>\n",
       "      <td>1</td>\n",
       "      <td>5</td>\n",
       "    </tr>\n",
       "    <tr>\n",
       "      <th>99</th>\n",
       "      <td>51</td>\n",
       "      <td>Female</td>\n",
       "      <td>Type B</td>\n",
       "      <td>42</td>\n",
       "      <td>96</td>\n",
       "      <td>4</td>\n",
       "      <td>5</td>\n",
       "      <td>1</td>\n",
       "      <td>5</td>\n",
       "      <td>2</td>\n",
       "      <td>5</td>\n",
       "    </tr>\n",
       "  </tbody>\n",
       "</table>\n",
       "<p>100 rows × 11 columns</p>\n",
       "</div>"
      ],
      "text/plain": [
       "    Age  Gender Treatment Type  Treatment Duration (weeks)  \\\n",
       "0    56  Female         Type C                          12   \n",
       "1    69  Female         Type A                           5   \n",
       "2    46  Female         Type C                          37   \n",
       "3    32   Other         Type B                          32   \n",
       "4    60   Other         Type A                           9   \n",
       "..  ...     ...            ...                         ...   \n",
       "95   46  Female         Type A                          33   \n",
       "96   35  Female         Type A                           3   \n",
       "97   43  Female         Type B                          18   \n",
       "98   61   Other         Type A                          25   \n",
       "99   51  Female         Type B                          42   \n",
       "\n",
       "    Wait Time (minutes)  Staff Friendliness Rating  \\\n",
       "0                    99                          4   \n",
       "1                    58                          5   \n",
       "2                    62                          4   \n",
       "3                    71                          3   \n",
       "4                   108                          4   \n",
       "..                  ...                        ...   \n",
       "95                   23                          4   \n",
       "96                   21                          3   \n",
       "97                   67                          4   \n",
       "98                   23                          4   \n",
       "99                   96                          4   \n",
       "\n",
       "    Hospital Cleanliness Rating  Perceived Effectiveness Rating  \\\n",
       "0                             4                               5   \n",
       "1                             4                               1   \n",
       "2                             5                               4   \n",
       "3                             3                               1   \n",
       "4                             5                               1   \n",
       "..                          ...                             ...   \n",
       "95                            3                               3   \n",
       "96                            3                               5   \n",
       "97                            3                               5   \n",
       "98                            4                               1   \n",
       "99                            5                               1   \n",
       "\n",
       "    Side Effects Rating  Overall Health Improvement Rating  \\\n",
       "0                     2                                  5   \n",
       "1                     1                                  2   \n",
       "2                     3                                  4   \n",
       "3                     5                                  2   \n",
       "4                     2                                  1   \n",
       "..                  ...                                ...   \n",
       "95                    1                                  4   \n",
       "96                    3                                  5   \n",
       "97                    3                                  5   \n",
       "98                    3                                  1   \n",
       "99                    5                                  2   \n",
       "\n",
       "    Overall Satisfaction Rating  \n",
       "0                             5  \n",
       "1                             5  \n",
       "2                             5  \n",
       "3                             5  \n",
       "4                             5  \n",
       "..                          ...  \n",
       "95                            5  \n",
       "96                            5  \n",
       "97                            5  \n",
       "98                            5  \n",
       "99                            5  \n",
       "\n",
       "[100 rows x 11 columns]"
      ]
     },
     "execution_count": 6,
     "metadata": {},
     "output_type": "execute_result"
    }
   ],
   "source": [
    "df.dropna()"
   ]
  },
  {
   "cell_type": "markdown",
   "metadata": {},
   "source": [
    "##### - There is no Missing Values finding"
   ]
  },
  {
   "cell_type": "markdown",
   "metadata": {},
   "source": [
    "### Finding Outliers\n",
    "\n",
    "Checking ouliers in (Wait Time) Column / Wait Time (minutes) Column / Age Column"
   ]
  },
  {
   "cell_type": "markdown",
   "metadata": {},
   "source": [
    "##### Checking ouliers in (Wait Time) Column"
   ]
  },
  {
   "cell_type": "code",
   "execution_count": 7,
   "metadata": {},
   "outputs": [
    {
     "data": {
      "text/plain": [
       "(6, 119)"
      ]
     },
     "execution_count": 7,
     "metadata": {},
     "output_type": "execute_result"
    }
   ],
   "source": [
    "mn = df['Wait Time (minutes)'].min()\n",
    "mx = df['Wait Time (minutes)'].max()\n",
    "\n",
    "mn,mx"
   ]
  },
  {
   "cell_type": "code",
   "execution_count": 8,
   "metadata": {},
   "outputs": [
    {
     "data": {
      "text/plain": [
       "(29.75, 91.75)"
      ]
     },
     "execution_count": 8,
     "metadata": {},
     "output_type": "execute_result"
    }
   ],
   "source": [
    "q1,q3 = np.percentile(df['Wait Time (minutes)'],[25,75])\n",
    "\n",
    "q1,q3"
   ]
  },
  {
   "cell_type": "code",
   "execution_count": 9,
   "metadata": {},
   "outputs": [
    {
     "data": {
      "text/plain": [
       "62.0"
      ]
     },
     "execution_count": 9,
     "metadata": {},
     "output_type": "execute_result"
    }
   ],
   "source": [
    "iqr = q3-q1\n",
    "iqr"
   ]
  },
  {
   "cell_type": "code",
   "execution_count": 10,
   "metadata": {},
   "outputs": [
    {
     "data": {
      "text/plain": [
       "(-63.25, 184.75)"
      ]
     },
     "execution_count": 10,
     "metadata": {},
     "output_type": "execute_result"
    }
   ],
   "source": [
    "lx= q1 - 1.5*iqr\n",
    "ux = q3 + 1.5*iqr\n",
    "\n",
    "lx,ux"
   ]
  },
  {
   "cell_type": "code",
   "execution_count": 11,
   "metadata": {},
   "outputs": [
    {
     "data": {
      "text/plain": [
       "False"
      ]
     },
     "execution_count": 11,
     "metadata": {},
     "output_type": "execute_result"
    }
   ],
   "source": [
    "outliers_present = lx > mn\n",
    "outliers_present"
   ]
  },
  {
   "cell_type": "code",
   "execution_count": 12,
   "metadata": {},
   "outputs": [
    {
     "data": {
      "text/plain": [
       "False"
      ]
     },
     "execution_count": 12,
     "metadata": {},
     "output_type": "execute_result"
    }
   ],
   "source": [
    "outliers_present = ux < mx\n",
    "outliers_present"
   ]
  },
  {
   "cell_type": "markdown",
   "metadata": {},
   "source": [
    "  ##### -- There is no outliers in wait column"
   ]
  },
  {
   "cell_type": "markdown",
   "metadata": {},
   "source": [
    "##### Checking outliers in Treatment Duration (weeks)\n"
   ]
  },
  {
   "cell_type": "code",
   "execution_count": 13,
   "metadata": {},
   "outputs": [
    {
     "data": {
      "text/plain": [
       "(2, 51)"
      ]
     },
     "execution_count": 13,
     "metadata": {},
     "output_type": "execute_result"
    }
   ],
   "source": [
    "mn = df['Treatment Duration (weeks)'].min()\n",
    "mx = df['Treatment Duration (weeks)'].max()\n",
    "\n",
    "mn,mx"
   ]
  },
  {
   "cell_type": "code",
   "execution_count": 14,
   "metadata": {},
   "outputs": [
    {
     "data": {
      "text/plain": [
       "(18.75, 37.25)"
      ]
     },
     "execution_count": 14,
     "metadata": {},
     "output_type": "execute_result"
    }
   ],
   "source": [
    "q1,q3 = np.percentile(df['Treatment Duration (weeks)'],[25,75])\n",
    "\n",
    "q1,q3"
   ]
  },
  {
   "cell_type": "code",
   "execution_count": 15,
   "metadata": {},
   "outputs": [
    {
     "data": {
      "text/plain": [
       "18.5"
      ]
     },
     "execution_count": 15,
     "metadata": {},
     "output_type": "execute_result"
    }
   ],
   "source": [
    "iqr = q3 - q1\n",
    "iqr"
   ]
  },
  {
   "cell_type": "code",
   "execution_count": 16,
   "metadata": {},
   "outputs": [
    {
     "data": {
      "text/plain": [
       "(-9.0, 65.0)"
      ]
     },
     "execution_count": 16,
     "metadata": {},
     "output_type": "execute_result"
    }
   ],
   "source": [
    "lx = q1 - 1.5 * iqr\n",
    "ux = q3 + 1.5 * iqr\n",
    "\n",
    "lx,ux"
   ]
  },
  {
   "cell_type": "code",
   "execution_count": 17,
   "metadata": {},
   "outputs": [
    {
     "data": {
      "text/plain": [
       "False"
      ]
     },
     "execution_count": 17,
     "metadata": {},
     "output_type": "execute_result"
    }
   ],
   "source": [
    "outliers_present = lx > mn\n",
    "outliers_present"
   ]
  },
  {
   "cell_type": "code",
   "execution_count": 18,
   "metadata": {},
   "outputs": [
    {
     "data": {
      "text/plain": [
       "False"
      ]
     },
     "execution_count": 18,
     "metadata": {},
     "output_type": "execute_result"
    }
   ],
   "source": [
    "outliers_present = ux < mx\n",
    "outliers_present"
   ]
  },
  {
   "cell_type": "markdown",
   "metadata": {},
   "source": [
    "#### -- No Outliers in the data"
   ]
  },
  {
   "cell_type": "markdown",
   "metadata": {},
   "source": [
    "##### Checking Outliers in `Age Column`"
   ]
  },
  {
   "cell_type": "code",
   "execution_count": 19,
   "metadata": {},
   "outputs": [
    {
     "data": {
      "text/plain": [
       "(19, 79)"
      ]
     },
     "execution_count": 19,
     "metadata": {},
     "output_type": "execute_result"
    }
   ],
   "source": [
    "mn = df[\"Age\"].min()\n",
    "mx = df[\"Age\"].max()\n",
    "\n",
    "mn,mx"
   ]
  },
  {
   "cell_type": "code",
   "execution_count": 20,
   "metadata": {},
   "outputs": [
    {
     "data": {
      "text/plain": [
       "(34.75, 68.0)"
      ]
     },
     "execution_count": 20,
     "metadata": {},
     "output_type": "execute_result"
    }
   ],
   "source": [
    "q1,q3 = np.percentile(df[\"Age\"],[25,75])\n",
    "q1,q3"
   ]
  },
  {
   "cell_type": "code",
   "execution_count": 21,
   "metadata": {},
   "outputs": [
    {
     "data": {
      "text/plain": [
       "33.25"
      ]
     },
     "execution_count": 21,
     "metadata": {},
     "output_type": "execute_result"
    }
   ],
   "source": [
    "iqr = q3-q1\n",
    "iqr"
   ]
  },
  {
   "cell_type": "code",
   "execution_count": 22,
   "metadata": {},
   "outputs": [
    {
     "data": {
      "text/plain": [
       "(-15.125, 117.875)"
      ]
     },
     "execution_count": 22,
     "metadata": {},
     "output_type": "execute_result"
    }
   ],
   "source": [
    "lx = q1 - 1.5 * iqr\n",
    "ux = q3 + 1.5 * iqr\n",
    "\n",
    "lx,ux"
   ]
  },
  {
   "cell_type": "code",
   "execution_count": 23,
   "metadata": {},
   "outputs": [
    {
     "data": {
      "text/plain": [
       "False"
      ]
     },
     "execution_count": 23,
     "metadata": {},
     "output_type": "execute_result"
    }
   ],
   "source": [
    "outliers_present = lx > mn\n",
    "outliers_present"
   ]
  },
  {
   "cell_type": "code",
   "execution_count": 24,
   "metadata": {},
   "outputs": [
    {
     "data": {
      "text/plain": [
       "False"
      ]
     },
     "execution_count": 24,
     "metadata": {},
     "output_type": "execute_result"
    }
   ],
   "source": [
    "outliers_present = ux < mx\n",
    "outliers_present"
   ]
  },
  {
   "cell_type": "markdown",
   "metadata": {},
   "source": [
    "--- No Outliers Prsent in Age Column"
   ]
  },
  {
   "cell_type": "markdown",
   "metadata": {},
   "source": [
    "---\n",
    "\n",
    "### Visualization\n",
    "\n",
    "\n",
    "Gender Vs Treatment type\n",
    "\n",
    "Gender vs Hospital Cleanliness Rating\n",
    "\n",
    "Gender vs Staff Friendliness Rating\n",
    "\n",
    "Gender & Tratment type vs Treatment Duration (weeks)\n",
    "\n",
    "Gender & Tratment type vs wait time minutes\n",
    "\n",
    "(Treatment Type & Gender & Age) vs Overall Health Improvement Rating\n",
    " \n",
    "(Age group & gender & Treatment Type) vs side effect rating\n",
    "\n",
    "---"
   ]
  },
  {
   "cell_type": "markdown",
   "metadata": {},
   "source": [
    "#### Graph 1 - `Gender` Vs `Treatment type` "
   ]
  },
  {
   "cell_type": "code",
   "execution_count": 25,
   "metadata": {},
   "outputs": [
    {
     "data": {
      "text/html": [
       "<div>\n",
       "<style scoped>\n",
       "    .dataframe tbody tr th:only-of-type {\n",
       "        vertical-align: middle;\n",
       "    }\n",
       "\n",
       "    .dataframe tbody tr th {\n",
       "        vertical-align: top;\n",
       "    }\n",
       "\n",
       "    .dataframe thead th {\n",
       "        text-align: right;\n",
       "    }\n",
       "</style>\n",
       "<table border=\"1\" class=\"dataframe\">\n",
       "  <thead>\n",
       "    <tr style=\"text-align: right;\">\n",
       "      <th></th>\n",
       "      <th>Gender</th>\n",
       "      <th>Treatment Type</th>\n",
       "      <th>count_Person</th>\n",
       "    </tr>\n",
       "  </thead>\n",
       "  <tbody>\n",
       "    <tr>\n",
       "      <th>0</th>\n",
       "      <td>Female</td>\n",
       "      <td>Type A</td>\n",
       "      <td>8</td>\n",
       "    </tr>\n",
       "    <tr>\n",
       "      <th>1</th>\n",
       "      <td>Female</td>\n",
       "      <td>Type B</td>\n",
       "      <td>10</td>\n",
       "    </tr>\n",
       "    <tr>\n",
       "      <th>2</th>\n",
       "      <td>Female</td>\n",
       "      <td>Type C</td>\n",
       "      <td>8</td>\n",
       "    </tr>\n",
       "    <tr>\n",
       "      <th>3</th>\n",
       "      <td>Male</td>\n",
       "      <td>Type A</td>\n",
       "      <td>11</td>\n",
       "    </tr>\n",
       "    <tr>\n",
       "      <th>4</th>\n",
       "      <td>Male</td>\n",
       "      <td>Type B</td>\n",
       "      <td>11</td>\n",
       "    </tr>\n",
       "    <tr>\n",
       "      <th>5</th>\n",
       "      <td>Male</td>\n",
       "      <td>Type C</td>\n",
       "      <td>13</td>\n",
       "    </tr>\n",
       "    <tr>\n",
       "      <th>6</th>\n",
       "      <td>Other</td>\n",
       "      <td>Type A</td>\n",
       "      <td>16</td>\n",
       "    </tr>\n",
       "    <tr>\n",
       "      <th>7</th>\n",
       "      <td>Other</td>\n",
       "      <td>Type B</td>\n",
       "      <td>9</td>\n",
       "    </tr>\n",
       "    <tr>\n",
       "      <th>8</th>\n",
       "      <td>Other</td>\n",
       "      <td>Type C</td>\n",
       "      <td>14</td>\n",
       "    </tr>\n",
       "  </tbody>\n",
       "</table>\n",
       "</div>"
      ],
      "text/plain": [
       "   Gender Treatment Type  count_Person\n",
       "0  Female         Type A             8\n",
       "1  Female         Type B            10\n",
       "2  Female         Type C             8\n",
       "3    Male         Type A            11\n",
       "4    Male         Type B            11\n",
       "5    Male         Type C            13\n",
       "6   Other         Type A            16\n",
       "7   Other         Type B             9\n",
       "8   Other         Type C            14"
      ]
     },
     "execution_count": 25,
     "metadata": {},
     "output_type": "execute_result"
    }
   ],
   "source": [
    "kdf = df.groupby(['Gender', 'Treatment Type']).agg(\n",
    "    count_Person=('Age', 'count')\n",
    ")\n",
    "kdf = kdf.reset_index()\n",
    "\n",
    "kdf"
   ]
  },
  {
   "cell_type": "code",
   "execution_count": 26,
   "metadata": {},
   "outputs": [
    {
     "data": {
      "image/png": "[encoded data removed]",
      "text/plain": [
       "<Figure size 600.25x500 with 1 Axes>"
      ]
     },
     "metadata": {},
     "output_type": "display_data"
    }
   ],
   "source": [
    "sns.catplot(data = kdf, x='Treatment Type', y='count_Person', hue='Gender', kind='swarm')\n",
    "plt.show()"
   ]
  },
  {
   "cell_type": "markdown",
   "metadata": {},
   "source": [
    "---\n",
    "Type A Treatment = highly recommended to the Other Gender group & Moderate to Males & very less to the Females.\n",
    "Type B Treatment = highly recommended in Male & Female & very less recommended to  Other Gender group.\n",
    "Type C Treatment = highly recommended to the Other Gender group & Moderate to Males & very less to the Females.\n",
    "\n",
    "\n",
    "Others Gender Group = Type A\n",
    "\n",
    "Male Gender Group =  Type C \n",
    "\n",
    "Female Gender Group = Type B\n",
    "\n",
    "\n",
    "---"
   ]
  },
  {
   "cell_type": "markdown",
   "metadata": {},
   "source": [
    "#### Graph -2 `Gender` vs `Hospital Cleanliness Rating`"
   ]
  },
  {
   "cell_type": "code",
   "execution_count": 27,
   "metadata": {},
   "outputs": [
    {
     "data": {
      "text/html": [
       "<div>\n",
       "<style scoped>\n",
       "    .dataframe tbody tr th:only-of-type {\n",
       "        vertical-align: middle;\n",
       "    }\n",
       "\n",
       "    .dataframe tbody tr th {\n",
       "        vertical-align: top;\n",
       "    }\n",
       "\n",
       "    .dataframe thead th {\n",
       "        text-align: right;\n",
       "    }\n",
       "</style>\n",
       "<table border=\"1\" class=\"dataframe\">\n",
       "  <thead>\n",
       "    <tr style=\"text-align: right;\">\n",
       "      <th></th>\n",
       "      <th>Hospital Cleanliness Rating</th>\n",
       "      <th>Gender</th>\n",
       "      <th>count_gender</th>\n",
       "    </tr>\n",
       "  </thead>\n",
       "  <tbody>\n",
       "    <tr>\n",
       "      <th>0</th>\n",
       "      <td>3</td>\n",
       "      <td>Female</td>\n",
       "      <td>13</td>\n",
       "    </tr>\n",
       "    <tr>\n",
       "      <th>1</th>\n",
       "      <td>3</td>\n",
       "      <td>Male</td>\n",
       "      <td>14</td>\n",
       "    </tr>\n",
       "    <tr>\n",
       "      <th>2</th>\n",
       "      <td>3</td>\n",
       "      <td>Other</td>\n",
       "      <td>16</td>\n",
       "    </tr>\n",
       "    <tr>\n",
       "      <th>3</th>\n",
       "      <td>4</td>\n",
       "      <td>Female</td>\n",
       "      <td>6</td>\n",
       "    </tr>\n",
       "    <tr>\n",
       "      <th>4</th>\n",
       "      <td>4</td>\n",
       "      <td>Male</td>\n",
       "      <td>8</td>\n",
       "    </tr>\n",
       "    <tr>\n",
       "      <th>5</th>\n",
       "      <td>4</td>\n",
       "      <td>Other</td>\n",
       "      <td>12</td>\n",
       "    </tr>\n",
       "    <tr>\n",
       "      <th>6</th>\n",
       "      <td>5</td>\n",
       "      <td>Female</td>\n",
       "      <td>7</td>\n",
       "    </tr>\n",
       "    <tr>\n",
       "      <th>7</th>\n",
       "      <td>5</td>\n",
       "      <td>Male</td>\n",
       "      <td>13</td>\n",
       "    </tr>\n",
       "    <tr>\n",
       "      <th>8</th>\n",
       "      <td>5</td>\n",
       "      <td>Other</td>\n",
       "      <td>11</td>\n",
       "    </tr>\n",
       "  </tbody>\n",
       "</table>\n",
       "</div>"
      ],
      "text/plain": [
       "   Hospital Cleanliness Rating  Gender  count_gender\n",
       "0                            3  Female            13\n",
       "1                            3    Male            14\n",
       "2                            3   Other            16\n",
       "3                            4  Female             6\n",
       "4                            4    Male             8\n",
       "5                            4   Other            12\n",
       "6                            5  Female             7\n",
       "7                            5    Male            13\n",
       "8                            5   Other            11"
      ]
     },
     "execution_count": 27,
     "metadata": {},
     "output_type": "execute_result"
    }
   ],
   "source": [
    "sdf= df.groupby(['Hospital Cleanliness Rating', 'Gender']).agg(\n",
    "    count_gender  = ('Gender','count')\n",
    "    )\n",
    "\n",
    "sdf = sdf.reset_index()\n",
    "\n",
    "sdf"
   ]
  },
  {
   "cell_type": "code",
   "execution_count": 28,
   "metadata": {},
   "outputs": [
    {
     "data": {
      "image/png": "[encoded data removed]",
      "text/plain": [
       "<Figure size 600.25x500 with 1 Axes>"
      ]
     },
     "metadata": {},
     "output_type": "display_data"
    }
   ],
   "source": [
    "sns.catplot(x='Hospital Cleanliness Rating', y= 'count_gender', hue= 'Gender', data= sdf)\n",
    "plt.show()"
   ]
  },
  {
   "cell_type": "markdown",
   "metadata": {},
   "source": [
    "--- \n",
    "Conclusion :-\n",
    "\n",
    "Higher number of All Category of Gender mostly recommneded rating `3` \n",
    "\n",
    "All Gender mostly not satisfly with the Hospital Cleanliness \n",
    "\n",
    "---\n"
   ]
  },
  {
   "cell_type": "markdown",
   "metadata": {},
   "source": [
    "#### Graph 3 - `Gender` vs `Staff Friendliness Rating`"
   ]
  },
  {
   "cell_type": "code",
   "execution_count": 29,
   "metadata": {},
   "outputs": [
    {
     "data": {
      "text/html": [
       "<div>\n",
       "<style scoped>\n",
       "    .dataframe tbody tr th:only-of-type {\n",
       "        vertical-align: middle;\n",
       "    }\n",
       "\n",
       "    .dataframe tbody tr th {\n",
       "        vertical-align: top;\n",
       "    }\n",
       "\n",
       "    .dataframe thead th {\n",
       "        text-align: right;\n",
       "    }\n",
       "</style>\n",
       "<table border=\"1\" class=\"dataframe\">\n",
       "  <thead>\n",
       "    <tr style=\"text-align: right;\">\n",
       "      <th></th>\n",
       "      <th>Staff Friendliness Rating</th>\n",
       "      <th>Gender</th>\n",
       "      <th>count_gender</th>\n",
       "    </tr>\n",
       "  </thead>\n",
       "  <tbody>\n",
       "    <tr>\n",
       "      <th>0</th>\n",
       "      <td>3</td>\n",
       "      <td>Female</td>\n",
       "      <td>7</td>\n",
       "    </tr>\n",
       "    <tr>\n",
       "      <th>1</th>\n",
       "      <td>3</td>\n",
       "      <td>Male</td>\n",
       "      <td>14</td>\n",
       "    </tr>\n",
       "    <tr>\n",
       "      <th>2</th>\n",
       "      <td>3</td>\n",
       "      <td>Other</td>\n",
       "      <td>17</td>\n",
       "    </tr>\n",
       "    <tr>\n",
       "      <th>3</th>\n",
       "      <td>4</td>\n",
       "      <td>Female</td>\n",
       "      <td>11</td>\n",
       "    </tr>\n",
       "    <tr>\n",
       "      <th>4</th>\n",
       "      <td>4</td>\n",
       "      <td>Male</td>\n",
       "      <td>10</td>\n",
       "    </tr>\n",
       "    <tr>\n",
       "      <th>5</th>\n",
       "      <td>4</td>\n",
       "      <td>Other</td>\n",
       "      <td>16</td>\n",
       "    </tr>\n",
       "    <tr>\n",
       "      <th>6</th>\n",
       "      <td>5</td>\n",
       "      <td>Female</td>\n",
       "      <td>8</td>\n",
       "    </tr>\n",
       "    <tr>\n",
       "      <th>7</th>\n",
       "      <td>5</td>\n",
       "      <td>Male</td>\n",
       "      <td>11</td>\n",
       "    </tr>\n",
       "    <tr>\n",
       "      <th>8</th>\n",
       "      <td>5</td>\n",
       "      <td>Other</td>\n",
       "      <td>6</td>\n",
       "    </tr>\n",
       "  </tbody>\n",
       "</table>\n",
       "</div>"
      ],
      "text/plain": [
       "   Staff Friendliness Rating  Gender  count_gender\n",
       "0                          3  Female             7\n",
       "1                          3    Male            14\n",
       "2                          3   Other            17\n",
       "3                          4  Female            11\n",
       "4                          4    Male            10\n",
       "5                          4   Other            16\n",
       "6                          5  Female             8\n",
       "7                          5    Male            11\n",
       "8                          5   Other             6"
      ]
     },
     "execution_count": 29,
     "metadata": {},
     "output_type": "execute_result"
    }
   ],
   "source": [
    "hdf = df.groupby(['Staff Friendliness Rating','Gender']).agg(\n",
    "    count_gender = ('Gender','count')\n",
    "\n",
    ")\n",
    "\n",
    "hdf = hdf.reset_index()\n",
    "\n",
    "hdf"
   ]
  },
  {
   "cell_type": "code",
   "execution_count": 30,
   "metadata": {},
   "outputs": [
    {
     "data": {
      "image/png": "[encoded data removed]",
      "text/plain": [
       "<Figure size 600.25x500 with 1 Axes>"
      ]
     },
     "metadata": {},
     "output_type": "display_data"
    }
   ],
   "source": [
    "sns.catplot( x='Staff Friendliness Rating', y='count_gender', hue= 'Gender', data = hdf)\n",
    "\n",
    "plt.show()"
   ]
  },
  {
   "cell_type": "markdown",
   "metadata": {},
   "source": [
    "---\n",
    "#### Conculsion :  with respect to Staff friendliness rating\n",
    "\n",
    "Females receommeded rating 4 \n",
    "\n",
    "others recommended rating 3\n",
    "\n",
    "Males receommeded rating 3\n",
    "\n",
    "---"
   ]
  },
  {
   "cell_type": "markdown",
   "metadata": {},
   "source": [
    "#### Graph 4 - `Gender` Vs `Treatment Type` vs `Treatment Duration (weeks)`"
   ]
  },
  {
   "cell_type": "code",
   "execution_count": 31,
   "metadata": {},
   "outputs": [
    {
     "data": {
      "image/png": "[encoded data removed]",
      "text/plain": [
       "<Figure size 1500x500 with 3 Axes>"
      ]
     },
     "metadata": {},
     "output_type": "display_data"
    }
   ],
   "source": [
    "sns.catplot(y ='Treatment Duration (weeks)', x ='Gender', data = df, hue='Gender', col ='Treatment Type',kind='bar', col_order=['Type A', 'Type B', 'Type C'], estimator='mean', palette=('Blue','Green', 'Orange'))\n",
    "\n",
    "plt.show()"
   ]
  },
  {
   "cell_type": "markdown",
   "metadata": {},
   "source": [
    "---\n",
    "Treatment Durations\n",
    "\n",
    "Type A - Average Treatment Durations for Male is high\n",
    "\n",
    "Type B - Average Treatment Durations for Female is high\n",
    "\n",
    "Type C - Average Treatment Durations for Female is high\n",
    "\n",
    "---"
   ]
  },
  {
   "cell_type": "markdown",
   "metadata": {},
   "source": [
    "#### Graph 5 - `Gender` Vs `Treatment Type` vs `wait time minutes`"
   ]
  },
  {
   "cell_type": "code",
   "execution_count": 32,
   "metadata": {},
   "outputs": [
    {
     "data": {
      "text/html": [
       "<div>\n",
       "<style scoped>\n",
       "    .dataframe tbody tr th:only-of-type {\n",
       "        vertical-align: middle;\n",
       "    }\n",
       "\n",
       "    .dataframe tbody tr th {\n",
       "        vertical-align: top;\n",
       "    }\n",
       "\n",
       "    .dataframe thead th {\n",
       "        text-align: right;\n",
       "    }\n",
       "</style>\n",
       "<table border=\"1\" class=\"dataframe\">\n",
       "  <thead>\n",
       "    <tr style=\"text-align: right;\">\n",
       "      <th></th>\n",
       "      <th>Age</th>\n",
       "      <th>Gender</th>\n",
       "      <th>Treatment Type</th>\n",
       "      <th>Treatment Duration (weeks)</th>\n",
       "      <th>Wait Time (minutes)</th>\n",
       "      <th>Staff Friendliness Rating</th>\n",
       "      <th>Hospital Cleanliness Rating</th>\n",
       "      <th>Perceived Effectiveness Rating</th>\n",
       "      <th>Side Effects Rating</th>\n",
       "      <th>Overall Health Improvement Rating</th>\n",
       "      <th>Overall Satisfaction Rating</th>\n",
       "    </tr>\n",
       "  </thead>\n",
       "  <tbody>\n",
       "    <tr>\n",
       "      <th>0</th>\n",
       "      <td>56</td>\n",
       "      <td>Female</td>\n",
       "      <td>Type C</td>\n",
       "      <td>12</td>\n",
       "      <td>99</td>\n",
       "      <td>4</td>\n",
       "      <td>4</td>\n",
       "      <td>5</td>\n",
       "      <td>2</td>\n",
       "      <td>5</td>\n",
       "      <td>5</td>\n",
       "    </tr>\n",
       "    <tr>\n",
       "      <th>1</th>\n",
       "      <td>69</td>\n",
       "      <td>Female</td>\n",
       "      <td>Type A</td>\n",
       "      <td>5</td>\n",
       "      <td>58</td>\n",
       "      <td>5</td>\n",
       "      <td>4</td>\n",
       "      <td>1</td>\n",
       "      <td>1</td>\n",
       "      <td>2</td>\n",
       "      <td>5</td>\n",
       "    </tr>\n",
       "    <tr>\n",
       "      <th>2</th>\n",
       "      <td>46</td>\n",
       "      <td>Female</td>\n",
       "      <td>Type C</td>\n",
       "      <td>37</td>\n",
       "      <td>62</td>\n",
       "      <td>4</td>\n",
       "      <td>5</td>\n",
       "      <td>4</td>\n",
       "      <td>3</td>\n",
       "      <td>4</td>\n",
       "      <td>5</td>\n",
       "    </tr>\n",
       "    <tr>\n",
       "      <th>3</th>\n",
       "      <td>32</td>\n",
       "      <td>Other</td>\n",
       "      <td>Type B</td>\n",
       "      <td>32</td>\n",
       "      <td>71</td>\n",
       "      <td>3</td>\n",
       "      <td>3</td>\n",
       "      <td>1</td>\n",
       "      <td>5</td>\n",
       "      <td>2</td>\n",
       "      <td>5</td>\n",
       "    </tr>\n",
       "    <tr>\n",
       "      <th>4</th>\n",
       "      <td>60</td>\n",
       "      <td>Other</td>\n",
       "      <td>Type A</td>\n",
       "      <td>9</td>\n",
       "      <td>108</td>\n",
       "      <td>4</td>\n",
       "      <td>5</td>\n",
       "      <td>1</td>\n",
       "      <td>2</td>\n",
       "      <td>1</td>\n",
       "      <td>5</td>\n",
       "    </tr>\n",
       "    <tr>\n",
       "      <th>...</th>\n",
       "      <td>...</td>\n",
       "      <td>...</td>\n",
       "      <td>...</td>\n",
       "      <td>...</td>\n",
       "      <td>...</td>\n",
       "      <td>...</td>\n",
       "      <td>...</td>\n",
       "      <td>...</td>\n",
       "      <td>...</td>\n",
       "      <td>...</td>\n",
       "      <td>...</td>\n",
       "    </tr>\n",
       "    <tr>\n",
       "      <th>95</th>\n",
       "      <td>46</td>\n",
       "      <td>Female</td>\n",
       "      <td>Type A</td>\n",
       "      <td>33</td>\n",
       "      <td>23</td>\n",
       "      <td>4</td>\n",
       "      <td>3</td>\n",
       "      <td>3</td>\n",
       "      <td>1</td>\n",
       "      <td>4</td>\n",
       "      <td>5</td>\n",
       "    </tr>\n",
       "    <tr>\n",
       "      <th>96</th>\n",
       "      <td>35</td>\n",
       "      <td>Female</td>\n",
       "      <td>Type A</td>\n",
       "      <td>3</td>\n",
       "      <td>21</td>\n",
       "      <td>3</td>\n",
       "      <td>3</td>\n",
       "      <td>5</td>\n",
       "      <td>3</td>\n",
       "      <td>5</td>\n",
       "      <td>5</td>\n",
       "    </tr>\n",
       "    <tr>\n",
       "      <th>97</th>\n",
       "      <td>43</td>\n",
       "      <td>Female</td>\n",
       "      <td>Type B</td>\n",
       "      <td>18</td>\n",
       "      <td>67</td>\n",
       "      <td>4</td>\n",
       "      <td>3</td>\n",
       "      <td>5</td>\n",
       "      <td>3</td>\n",
       "      <td>5</td>\n",
       "      <td>5</td>\n",
       "    </tr>\n",
       "    <tr>\n",
       "      <th>98</th>\n",
       "      <td>61</td>\n",
       "      <td>Other</td>\n",
       "      <td>Type A</td>\n",
       "      <td>25</td>\n",
       "      <td>23</td>\n",
       "      <td>4</td>\n",
       "      <td>4</td>\n",
       "      <td>1</td>\n",
       "      <td>3</td>\n",
       "      <td>1</td>\n",
       "      <td>5</td>\n",
       "    </tr>\n",
       "    <tr>\n",
       "      <th>99</th>\n",
       "      <td>51</td>\n",
       "      <td>Female</td>\n",
       "      <td>Type B</td>\n",
       "      <td>42</td>\n",
       "      <td>96</td>\n",
       "      <td>4</td>\n",
       "      <td>5</td>\n",
       "      <td>1</td>\n",
       "      <td>5</td>\n",
       "      <td>2</td>\n",
       "      <td>5</td>\n",
       "    </tr>\n",
       "  </tbody>\n",
       "</table>\n",
       "<p>100 rows × 11 columns</p>\n",
       "</div>"
      ],
      "text/plain": [
       "    Age  Gender Treatment Type  Treatment Duration (weeks)  \\\n",
       "0    56  Female         Type C                          12   \n",
       "1    69  Female         Type A                           5   \n",
       "2    46  Female         Type C                          37   \n",
       "3    32   Other         Type B                          32   \n",
       "4    60   Other         Type A                           9   \n",
       "..  ...     ...            ...                         ...   \n",
       "95   46  Female         Type A                          33   \n",
       "96   35  Female         Type A                           3   \n",
       "97   43  Female         Type B                          18   \n",
       "98   61   Other         Type A                          25   \n",
       "99   51  Female         Type B                          42   \n",
       "\n",
       "    Wait Time (minutes)  Staff Friendliness Rating  \\\n",
       "0                    99                          4   \n",
       "1                    58                          5   \n",
       "2                    62                          4   \n",
       "3                    71                          3   \n",
       "4                   108                          4   \n",
       "..                  ...                        ...   \n",
       "95                   23                          4   \n",
       "96                   21                          3   \n",
       "97                   67                          4   \n",
       "98                   23                          4   \n",
       "99                   96                          4   \n",
       "\n",
       "    Hospital Cleanliness Rating  Perceived Effectiveness Rating  \\\n",
       "0                             4                               5   \n",
       "1                             4                               1   \n",
       "2                             5                               4   \n",
       "3                             3                               1   \n",
       "4                             5                               1   \n",
       "..                          ...                             ...   \n",
       "95                            3                               3   \n",
       "96                            3                               5   \n",
       "97                            3                               5   \n",
       "98                            4                               1   \n",
       "99                            5                               1   \n",
       "\n",
       "    Side Effects Rating  Overall Health Improvement Rating  \\\n",
       "0                     2                                  5   \n",
       "1                     1                                  2   \n",
       "2                     3                                  4   \n",
       "3                     5                                  2   \n",
       "4                     2                                  1   \n",
       "..                  ...                                ...   \n",
       "95                    1                                  4   \n",
       "96                    3                                  5   \n",
       "97                    3                                  5   \n",
       "98                    3                                  1   \n",
       "99                    5                                  2   \n",
       "\n",
       "    Overall Satisfaction Rating  \n",
       "0                             5  \n",
       "1                             5  \n",
       "2                             5  \n",
       "3                             5  \n",
       "4                             5  \n",
       "..                          ...  \n",
       "95                            5  \n",
       "96                            5  \n",
       "97                            5  \n",
       "98                            5  \n",
       "99                            5  \n",
       "\n",
       "[100 rows x 11 columns]"
      ]
     },
     "execution_count": 32,
     "metadata": {},
     "output_type": "execute_result"
    }
   ],
   "source": [
    "df"
   ]
  },
  {
   "cell_type": "code",
   "execution_count": 33,
   "metadata": {},
   "outputs": [
    {
     "data": {
      "image/png": "[encoded data removed]",
      "text/plain": [
       "<Figure size 600.25x500 with 1 Axes>"
      ]
     },
     "metadata": {},
     "output_type": "display_data"
    }
   ],
   "source": [
    "sns.catplot(x= 'Treatment Type', y='Wait Time (minutes)', data= df, kind = 'bar', hue = 'Gender', estimator='mean', order=['Type A', 'Type B', 'Type C'],palette=('Blue','Green', 'Orange'))\n",
    "plt.show()"
   ]
  },
  {
   "cell_type": "markdown",
   "metadata": {},
   "source": [
    "---\n",
    "Conculsion - \n",
    "\n",
    "Type A - Avg wait time is high for Male Gender group\n",
    "\n",
    "Type B - Avg wait time is high for other Gender group\n",
    "\n",
    "Type C - Avg wait time  is high for Female Gender Group\n",
    "\n",
    "---"
   ]
  },
  {
   "cell_type": "markdown",
   "metadata": {},
   "source": [
    "#### Graph 5\n",
    "\n",
    "(`Treatment Type` & `Gender` & `Age`) vs `Overall Health Improvement Rating`\n",
    " \n"
   ]
  },
  {
   "cell_type": "code",
   "execution_count": 34,
   "metadata": {},
   "outputs": [
    {
     "data": {
      "text/html": [
       "<div>\n",
       "<style scoped>\n",
       "    .dataframe tbody tr th:only-of-type {\n",
       "        vertical-align: middle;\n",
       "    }\n",
       "\n",
       "    .dataframe tbody tr th {\n",
       "        vertical-align: top;\n",
       "    }\n",
       "\n",
       "    .dataframe thead th {\n",
       "        text-align: right;\n",
       "    }\n",
       "</style>\n",
       "<table border=\"1\" class=\"dataframe\">\n",
       "  <thead>\n",
       "    <tr style=\"text-align: right;\">\n",
       "      <th></th>\n",
       "      <th>Age</th>\n",
       "      <th>Gender</th>\n",
       "      <th>Treatment Type</th>\n",
       "      <th>Treatment Duration (weeks)</th>\n",
       "      <th>Wait Time (minutes)</th>\n",
       "      <th>Staff Friendliness Rating</th>\n",
       "      <th>Hospital Cleanliness Rating</th>\n",
       "      <th>Perceived Effectiveness Rating</th>\n",
       "      <th>Side Effects Rating</th>\n",
       "      <th>Overall Health Improvement Rating</th>\n",
       "      <th>Overall Satisfaction Rating</th>\n",
       "    </tr>\n",
       "  </thead>\n",
       "  <tbody>\n",
       "    <tr>\n",
       "      <th>0</th>\n",
       "      <td>56</td>\n",
       "      <td>Female</td>\n",
       "      <td>Type C</td>\n",
       "      <td>12</td>\n",
       "      <td>99</td>\n",
       "      <td>4</td>\n",
       "      <td>4</td>\n",
       "      <td>5</td>\n",
       "      <td>2</td>\n",
       "      <td>5</td>\n",
       "      <td>5</td>\n",
       "    </tr>\n",
       "    <tr>\n",
       "      <th>1</th>\n",
       "      <td>69</td>\n",
       "      <td>Female</td>\n",
       "      <td>Type A</td>\n",
       "      <td>5</td>\n",
       "      <td>58</td>\n",
       "      <td>5</td>\n",
       "      <td>4</td>\n",
       "      <td>1</td>\n",
       "      <td>1</td>\n",
       "      <td>2</td>\n",
       "      <td>5</td>\n",
       "    </tr>\n",
       "    <tr>\n",
       "      <th>2</th>\n",
       "      <td>46</td>\n",
       "      <td>Female</td>\n",
       "      <td>Type C</td>\n",
       "      <td>37</td>\n",
       "      <td>62</td>\n",
       "      <td>4</td>\n",
       "      <td>5</td>\n",
       "      <td>4</td>\n",
       "      <td>3</td>\n",
       "      <td>4</td>\n",
       "      <td>5</td>\n",
       "    </tr>\n",
       "    <tr>\n",
       "      <th>3</th>\n",
       "      <td>32</td>\n",
       "      <td>Other</td>\n",
       "      <td>Type B</td>\n",
       "      <td>32</td>\n",
       "      <td>71</td>\n",
       "      <td>3</td>\n",
       "      <td>3</td>\n",
       "      <td>1</td>\n",
       "      <td>5</td>\n",
       "      <td>2</td>\n",
       "      <td>5</td>\n",
       "    </tr>\n",
       "    <tr>\n",
       "      <th>4</th>\n",
       "      <td>60</td>\n",
       "      <td>Other</td>\n",
       "      <td>Type A</td>\n",
       "      <td>9</td>\n",
       "      <td>108</td>\n",
       "      <td>4</td>\n",
       "      <td>5</td>\n",
       "      <td>1</td>\n",
       "      <td>2</td>\n",
       "      <td>1</td>\n",
       "      <td>5</td>\n",
       "    </tr>\n",
       "    <tr>\n",
       "      <th>...</th>\n",
       "      <td>...</td>\n",
       "      <td>...</td>\n",
       "      <td>...</td>\n",
       "      <td>...</td>\n",
       "      <td>...</td>\n",
       "      <td>...</td>\n",
       "      <td>...</td>\n",
       "      <td>...</td>\n",
       "      <td>...</td>\n",
       "      <td>...</td>\n",
       "      <td>...</td>\n",
       "    </tr>\n",
       "    <tr>\n",
       "      <th>95</th>\n",
       "      <td>46</td>\n",
       "      <td>Female</td>\n",
       "      <td>Type A</td>\n",
       "      <td>33</td>\n",
       "      <td>23</td>\n",
       "      <td>4</td>\n",
       "      <td>3</td>\n",
       "      <td>3</td>\n",
       "      <td>1</td>\n",
       "      <td>4</td>\n",
       "      <td>5</td>\n",
       "    </tr>\n",
       "    <tr>\n",
       "      <th>96</th>\n",
       "      <td>35</td>\n",
       "      <td>Female</td>\n",
       "      <td>Type A</td>\n",
       "      <td>3</td>\n",
       "      <td>21</td>\n",
       "      <td>3</td>\n",
       "      <td>3</td>\n",
       "      <td>5</td>\n",
       "      <td>3</td>\n",
       "      <td>5</td>\n",
       "      <td>5</td>\n",
       "    </tr>\n",
       "    <tr>\n",
       "      <th>97</th>\n",
       "      <td>43</td>\n",
       "      <td>Female</td>\n",
       "      <td>Type B</td>\n",
       "      <td>18</td>\n",
       "      <td>67</td>\n",
       "      <td>4</td>\n",
       "      <td>3</td>\n",
       "      <td>5</td>\n",
       "      <td>3</td>\n",
       "      <td>5</td>\n",
       "      <td>5</td>\n",
       "    </tr>\n",
       "    <tr>\n",
       "      <th>98</th>\n",
       "      <td>61</td>\n",
       "      <td>Other</td>\n",
       "      <td>Type A</td>\n",
       "      <td>25</td>\n",
       "      <td>23</td>\n",
       "      <td>4</td>\n",
       "      <td>4</td>\n",
       "      <td>1</td>\n",
       "      <td>3</td>\n",
       "      <td>1</td>\n",
       "      <td>5</td>\n",
       "    </tr>\n",
       "    <tr>\n",
       "      <th>99</th>\n",
       "      <td>51</td>\n",
       "      <td>Female</td>\n",
       "      <td>Type B</td>\n",
       "      <td>42</td>\n",
       "      <td>96</td>\n",
       "      <td>4</td>\n",
       "      <td>5</td>\n",
       "      <td>1</td>\n",
       "      <td>5</td>\n",
       "      <td>2</td>\n",
       "      <td>5</td>\n",
       "    </tr>\n",
       "  </tbody>\n",
       "</table>\n",
       "<p>100 rows × 11 columns</p>\n",
       "</div>"
      ],
      "text/plain": [
       "    Age  Gender Treatment Type  Treatment Duration (weeks)  \\\n",
       "0    56  Female         Type C                          12   \n",
       "1    69  Female         Type A                           5   \n",
       "2    46  Female         Type C                          37   \n",
       "3    32   Other         Type B                          32   \n",
       "4    60   Other         Type A                           9   \n",
       "..  ...     ...            ...                         ...   \n",
       "95   46  Female         Type A                          33   \n",
       "96   35  Female         Type A                           3   \n",
       "97   43  Female         Type B                          18   \n",
       "98   61   Other         Type A                          25   \n",
       "99   51  Female         Type B                          42   \n",
       "\n",
       "    Wait Time (minutes)  Staff Friendliness Rating  \\\n",
       "0                    99                          4   \n",
       "1                    58                          5   \n",
       "2                    62                          4   \n",
       "3                    71                          3   \n",
       "4                   108                          4   \n",
       "..                  ...                        ...   \n",
       "95                   23                          4   \n",
       "96                   21                          3   \n",
       "97                   67                          4   \n",
       "98                   23                          4   \n",
       "99                   96                          4   \n",
       "\n",
       "    Hospital Cleanliness Rating  Perceived Effectiveness Rating  \\\n",
       "0                             4                               5   \n",
       "1                             4                               1   \n",
       "2                             5                               4   \n",
       "3                             3                               1   \n",
       "4                             5                               1   \n",
       "..                          ...                             ...   \n",
       "95                            3                               3   \n",
       "96                            3                               5   \n",
       "97                            3                               5   \n",
       "98                            4                               1   \n",
       "99                            5                               1   \n",
       "\n",
       "    Side Effects Rating  Overall Health Improvement Rating  \\\n",
       "0                     2                                  5   \n",
       "1                     1                                  2   \n",
       "2                     3                                  4   \n",
       "3                     5                                  2   \n",
       "4                     2                                  1   \n",
       "..                  ...                                ...   \n",
       "95                    1                                  4   \n",
       "96                    3                                  5   \n",
       "97                    3                                  5   \n",
       "98                    3                                  1   \n",
       "99                    5                                  2   \n",
       "\n",
       "    Overall Satisfaction Rating  \n",
       "0                             5  \n",
       "1                             5  \n",
       "2                             5  \n",
       "3                             5  \n",
       "4                             5  \n",
       "..                          ...  \n",
       "95                            5  \n",
       "96                            5  \n",
       "97                            5  \n",
       "98                            5  \n",
       "99                            5  \n",
       "\n",
       "[100 rows x 11 columns]"
      ]
     },
     "execution_count": 34,
     "metadata": {},
     "output_type": "execute_result"
    }
   ],
   "source": [
    "df"
   ]
  },
  {
   "cell_type": "code",
   "execution_count": 35,
   "metadata": {},
   "outputs": [
    {
     "data": {
      "image/png": "[encoded data removed]",
      "text/plain": [
       "<Figure size 2600.25x500 with 5 Axes>"
      ]
     },
     "metadata": {},
     "output_type": "display_data"
    }
   ],
   "source": [
    "sns.catplot(data = df, x='Treatment Type', y = 'Age', hue='Gender', col = 'Overall Health Improvement Rating', col_order =[1,2,3,4,5], kind='swarm', order=['Tytpe A', 'Type B', 'Type C'])\n",
    "plt.show()"
   ]
  },
  {
   "cell_type": "markdown",
   "metadata": {},
   "source": [
    "--- \n",
    "Conclusion - \n",
    "\n",
    "Type B & Type C is the Most Popular treatment plan among all Gender having good Health Inprovement rating.\n",
    "Type A is not popular treatment plan among all Genders.\n",
    "\n",
    "---\n"
   ]
  },
  {
   "cell_type": "markdown",
   "metadata": {},
   "source": [
    "#### Graph 6\n",
    "(`Treatment Type` & `Gender` & `Age`) vs `side effect rating`"
   ]
  },
  {
   "cell_type": "code",
   "execution_count": 36,
   "metadata": {},
   "outputs": [
    {
     "data": {
      "image/png": "[encoded data removed]",
      "text/plain": [
       "<Figure size 1100.25x1500 with 3 Axes>"
      ]
     },
     "metadata": {},
     "output_type": "display_data"
    }
   ],
   "source": [
    "sns.catplot(data=df, x='Side Effects Rating', y = 'Age', hue= 'Gender', aspect=2, kind='bar', row ='Treatment Type', estimator='mean', palette=('Blue','Green', 'Orange'), row_order=('Type A', 'Type B', 'Type C'))\n",
    "\n",
    "plt.show()\n"
   ]
  },
  {
   "cell_type": "markdown",
   "metadata": {},
   "source": [
    "---\n",
    "Conclusion - \n",
    "\n",
    "for Type A :- Higher Side Effects rating (rating 5) given by the Man Gender group (Avg age - 60-70)\n",
    "\n",
    "for Type B :- Higher Side Effects rating (rating 5) given by the Man Gender group (Avg age - 50-60)\n",
    "\n",
    "For type C :- Higher Side Effects rating (rating 5) given by the Man Gender group (Avg age - 50-60)"
   ]
  },
  {
   "cell_type": "code",
   "execution_count": null,
   "metadata": {},
   "outputs": [],
   "source": []
  }
 ],
 "metadata": {
  "kernelspec": {
   "display_name": "Python 3",
   "language": "python",
   "name": "python3"
  },
  "language_info": {
   "codemirror_mode": {
    "name": "ipython",
    "version": 3
   },
   "file_extension": ".py",
   "mimetype": "text/x-python",
   "name": "python",
   "nbconvert_exporter": "python",
   "pygments_lexer": "ipython3",
   "version": "3.11.4"
  }
 },
 "nbformat": 4,
 "nbformat_minor": 2
}
